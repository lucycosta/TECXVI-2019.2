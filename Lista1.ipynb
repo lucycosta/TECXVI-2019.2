{
  "nbformat": 4,
  "nbformat_minor": 0,
  "metadata": {
    "colab": {
      "name": "Lista1.ipynb",
      "version": "0.3.2",
      "provenance": [],
      "collapsed_sections": [],
      "include_colab_link": true
    },
    "kernelspec": {
      "name": "python3",
      "display_name": "Python 3"
    }
  },
  "cells": [
    {
      "cell_type": "markdown",
      "metadata": {
        "id": "view-in-github",
        "colab_type": "text"
      },
      "source": [
        "<a href=\"https://colab.research.google.com/github/lucycosta/TECXVI-2019.2/blob/master/Lista1.ipynb\" target=\"_parent\"><img src=\"https://colab.research.google.com/assets/colab-badge.svg\" alt=\"Open In Colab\"/></a>"
      ]
    },
    {
      "cell_type": "markdown",
      "metadata": {
        "id": "t8rEEjCdIJAs",
        "colab_type": "text"
      },
      "source": [
        "#Tarefa (a)"
      ]
    },
    {
      "cell_type": "markdown",
      "metadata": {
        "id": "mTR9q7bGIKgI",
        "colab_type": "text"
      },
      "source": [
        "##(1)\n",
        "\n",
        "*Big Data*: Realidade vivenciada atualmente em que há um grande volume de dados sendo gerados todo o tempo.\n",
        "\n",
        "*Data Analytics*: Tratamento e observação de dados, com o objetivo de extrair a maior quantidade de informações possível.\n",
        "\n",
        "*Data Mining*: Também é o tratamento e observação de dados, mas diferente do data analytics, este tem o objetivo identificar comportamentos e/ou fenômenos, já com um direcionamento prévio.\n",
        "\n",
        "*Business Inteligence*: Estratégias pra melhor exploração do mercado consumidor baseado na análise e mineração de dados descritas anteriormente.\n",
        "\n",
        "##(2)\n",
        "\n",
        "Dados estruturados contém um paradigma organizacional, sem falhas e com características bem definidas. Os não estruturados são todo o resto, isto é, dados com informações faltantes, formatos incomuns de apresentação e sem uma descrição completa (ou, sequer, existente).\n",
        "\n",
        "##(3)\n",
        "\n",
        "Balanceamento é a padronização dos tamanhos de amostra de cada um dos dados, pra não haver nenhuma tendência estabelecida antes do processamento.\n",
        "\n",
        "##(4)\n",
        "\n",
        "*Machine Learning* é um ramo da inteligência artificial, o aprendizado de máquina (algoritmos construídos para analisar e encontrar certos padrões) através do fornecimento de dados para treinamento e teste, e é daí que surge a importância da existência dos dados, sem eles não haveria informações que o programa pudesse usar para aprender. \n",
        "\n",
        "##(5)\n",
        "\n",
        "Definindo o conjunto de todos os dados como a população, amostragem vem a ser um subconjunto dessa população, dessa forma reduzindo a quantidade de dados para fazer análises de forma mais simples e tirar conclusões sobre a população."
      ]
    },
    {
      "cell_type": "markdown",
      "metadata": {
        "id": "zwTG6uB_KAjS",
        "colab_type": "text"
      },
      "source": [
        "#Tarefa (b)"
      ]
    },
    {
      "cell_type": "code",
      "metadata": {
        "id": "L3DG1ctLcE1F",
        "colab_type": "code",
        "colab": {
          "base_uri": "https://localhost:8080/",
          "height": 51
        },
        "outputId": "71de4959-d172-4181-842e-71cec1de9c49"
      },
      "source": [
        "v1 = [2, -5, -3, 1, 7, 4]\n",
        "v2 = [-9, 2, -1, 4, 3, 4]\n",
        "v3 = [0] * 6\n",
        "\n",
        "# (1)\n",
        "\n",
        "for i in range(6):\n",
        "  v3[i] = v1[i]*v2[i]\n",
        "  \n",
        "print(v3)\n",
        "\n",
        "# a função a seguir (cross_product) foi retirada do site: https://stackoverflow.com/questions/1984799/cross-product-of-two-vectors-in-python\n",
        "\n",
        "def cross_product(u,v):  \n",
        "    dim = len(u)\n",
        "    s = []\n",
        "    for i in range(dim):\n",
        "        if i == 0:\n",
        "            j,k = 1,2\n",
        "            s.append(u[j]*v[k] - u[k]*v[j])\n",
        "        elif i == 1:\n",
        "            j,k = 2,0\n",
        "            s.append(u[j]*v[k] - u[k]*v[j])\n",
        "        else:\n",
        "            j,k = 0,1\n",
        "            s.append(u[j]*v[k] - u[k]*v[j])\n",
        "    return s\n",
        "  \n",
        "v4 = cross_product(v1, v2)\n",
        "\n",
        "print(v4)"
      ],
      "execution_count": 14,
      "outputs": [
        {
          "output_type": "stream",
          "text": [
            "[-18, -10, 3, 4, 21, 16]\n",
            "[11, 29, -41, -41, -41, -41]\n"
          ],
          "name": "stdout"
        }
      ]
    }
  ]
}