{
  "nbformat": 4,
  "nbformat_minor": 0,
  "metadata": {
    "colab": {
      "name": "Lista1.ipynb",
      "version": "0.3.2",
      "provenance": [],
      "collapsed_sections": [],
      "include_colab_link": true
    },
    "kernelspec": {
      "name": "python3",
      "display_name": "Python 3"
    }
  },
  "cells": [
    {
      "cell_type": "markdown",
      "metadata": {
        "id": "view-in-github",
        "colab_type": "text"
      },
      "source": [
        "<a href=\"https://colab.research.google.com/github/lucycosta/TECXVI-2019.2/blob/master/Lista1.ipynb\" target=\"_parent\"><img src=\"https://colab.research.google.com/assets/colab-badge.svg\" alt=\"Open In Colab\"/></a>"
      ]
    },
    {
      "cell_type": "markdown",
      "metadata": {
        "id": "t8rEEjCdIJAs",
        "colab_type": "text"
      },
      "source": [
        "#Tarefa (a)"
      ]
    },
    {
      "cell_type": "markdown",
      "metadata": {
        "id": "mTR9q7bGIKgI",
        "colab_type": "text"
      },
      "source": [
        "##(1)\n",
        "\n",
        "*Big Data*: Realidade vivenciada atualmente em que há um grande volume de dados sendo gerados todo o tempo.\n",
        "\n",
        "*Data Analytics*: Tratamento de dados, com o objetivo de observar tendências e relação de uma variável com ela mesma e/ou com outras, já com um direcionamento prévio. \n",
        "\n",
        "*Data Mining*: Também é o tratamento de dados, porém, diferente do *data analytics*, este tem o objetivo de extrair a maior quantidade de informações possível, sem nenhum tipo de direcionamento inicial.\n",
        "\n",
        "*Business Inteligence*: Estratégias pra melhor exploração do mercado consumidor baseado na análise e mineração de dados descritas anteriormente.\n",
        "\n",
        "##(2)\n",
        "\n",
        "Dados estruturados contém um paradigma organizacional, sem falhas e com características bem definidas. Os não estruturados são todo o resto, isto é, dados com informações faltantes, formatos incomuns de apresentação e sem uma descrição completa (ou, sequer, existente).\n",
        "\n",
        "##(3)\n",
        "\n",
        "Representatividade é a proximidade da população que a amostra recolhida apresenta. Pois havendo uma amostra retirada sem essa preocupação (aleatorizando o máximo possível a amostra), pode gerar inferências pouco precisas.\n",
        "\n",
        "Balanceamento é a padronização dos tamanhos de amostra de cada uma das variáveis, pra não haver nenhuma tendência estabelecida antes do processamento.\n",
        "\n",
        "##(4)\n",
        "\n",
        "*Machine Learning* é um ramo da inteligência artificial, o aprendizado de máquina (algoritmos construídos para analisar e encontrar certos padrões) através do fornecimento de dados para treinamento e teste, e é daí que surge a importância da existência dos dados, sem eles não haveria informações que o programa pudesse usar para aprender. \n",
        "\n",
        "##(5)\n",
        "\n",
        "Definindo o conjunto de todos os dados como a população, amostragem vem a ser um subconjunto dessa população, dessa forma reduzindo a quantidade de dados para fazer análises de forma mais simples e tirar conclusões sobre a população."
      ]
    },
    {
      "cell_type": "markdown",
      "metadata": {
        "id": "zwTG6uB_KAjS",
        "colab_type": "text"
      },
      "source": [
        "#Tarefa (b)"
      ]
    },
    {
      "cell_type": "code",
      "metadata": {
        "id": "L3DG1ctLcE1F",
        "colab_type": "code",
        "outputId": "73bd4e71-f367-4a71-e4a1-c2c662870acf",
        "colab": {
          "base_uri": "https://localhost:8080/",
          "height": 51
        }
      },
      "source": [
        "v1 = [2, -5, -3, 1, 7, 4]\n",
        "v2 = [-9, 2, -1, 4, 3, 4]\n",
        "v3 = [0] * 6\n",
        "\n",
        "# (1)\n",
        "\n",
        "for i in range(6):\n",
        "  v3[i] = v1[i]*v2[i]\n",
        "  \n",
        "print(v3)\n",
        "\n",
        "# a função a seguir (cross_product) foi retirada do site: https://stackoverflow.com/questions/1984799/cross-product-of-two-vectors-in-python\n",
        "\n",
        "def cross_product(u,v):  \n",
        "    dim = len(u)\n",
        "    s = []\n",
        "    for i in range(dim):\n",
        "        if i == 0:\n",
        "            j,k = 1,2\n",
        "            s.append(u[j]*v[k] - u[k]*v[j])\n",
        "        elif i == 1:\n",
        "            j,k = 2,0\n",
        "            s.append(u[j]*v[k] - u[k]*v[j])\n",
        "        else:\n",
        "            j,k = 0,1\n",
        "            s.append(u[j]*v[k] - u[k]*v[j])\n",
        "    return s\n",
        "  \n",
        "v4 = cross_product(v1, v2)\n",
        "\n",
        "print(v4)"
      ],
      "execution_count": 0,
      "outputs": [
        {
          "output_type": "stream",
          "text": [
            "[-18, -10, 3, 4, 21, 16]\n",
            "[11, 29, -41, -41, -41, -41]\n"
          ],
          "name": "stdout"
        }
      ]
    },
    {
      "cell_type": "markdown",
      "metadata": {
        "id": "HtS4Yi_WyuDw",
        "colab_type": "text"
      },
      "source": [
        "#Tarefa (c)"
      ]
    },
    {
      "cell_type": "code",
      "metadata": {
        "id": "-zGPABPWy63i",
        "colab_type": "code",
        "outputId": "f5f0a9e5-8696-4dfb-ac44-3b18239ba3da",
        "colab": {
          "base_uri": "https://localhost:8080/",
          "height": 341
        }
      },
      "source": [
        "import random\n",
        "\n",
        "x = [0]*200\n",
        "y = [0]*200\n",
        "\n",
        "for i in range(200):\n",
        "  x[i] = random.randint(0, 100)\n",
        "  y[i] = random.randint(0, 100)\n",
        "\n",
        "print(x)\n",
        "print(y)\n",
        "print(\" \")\n",
        "print(\"vamos organizar os dados em roll:\")\n",
        "print(\" \")\n",
        "\n",
        "x.sort()\n",
        "y.sort()\n",
        "\n",
        "print(x)\n",
        "print(y)\n",
        "\n",
        "mediax = 0\n",
        "mediay = 0\n",
        "\n",
        "for i in range(200):\n",
        "  mediax = mediax + x[i]\n",
        "  mediay = mediay + y[i]\n",
        "  \n",
        "mediax = mediax/200\n",
        "mediay = mediay/200\n",
        "  \n",
        "print(\" \")\n",
        "\n",
        "print(\"média de x é:\")\n",
        "print(mediax)\n",
        "print(\"média de y é:\")\n",
        "print(mediay)\n",
        "\n",
        "print(\" \")\n",
        "\n",
        "print(\"mediana de x é:\")\n",
        "print((x[99]+x[100])/2)\n",
        "print(\"mediana de y é:\")\n",
        "print((y[99]+y[100])/2)\n",
        "\n"
      ],
      "execution_count": 0,
      "outputs": [
        {
          "output_type": "stream",
          "text": [
            "[78, 70, 42, 89, 98, 67, 50, 77, 81, 44, 11, 29, 85, 11, 73, 0, 23, 77, 51, 82, 7, 59, 41, 47, 93, 23, 61, 56, 15, 26, 12, 63, 22, 46, 39, 21, 74, 97, 6, 57, 26, 2, 98, 40, 24, 97, 38, 90, 85, 28, 9, 75, 99, 90, 33, 95, 24, 10, 62, 25, 91, 17, 13, 19, 32, 41, 46, 99, 27, 89, 66, 35, 21, 12, 81, 91, 23, 77, 71, 99, 11, 39, 54, 31, 11, 35, 23, 9, 71, 82, 87, 100, 94, 96, 16, 20, 17, 84, 0, 38, 17, 46, 24, 61, 7, 77, 90, 62, 64, 34, 73, 35, 53, 79, 35, 88, 79, 77, 12, 92, 61, 29, 37, 90, 4, 78, 87, 78, 73, 62, 20, 37, 41, 61, 71, 84, 39, 53, 10, 23, 76, 10, 73, 12, 63, 1, 99, 95, 78, 98, 2, 94, 92, 16, 56, 96, 12, 15, 86, 4, 37, 18, 84, 30, 45, 87, 64, 99, 95, 0, 20, 74, 61, 84, 69, 56, 66, 33, 71, 69, 33, 5, 87, 89, 22, 100, 98, 25, 35, 7, 95, 72, 68, 100, 23, 53, 64, 77, 15, 14]\n",
            "[12, 55, 89, 58, 84, 16, 7, 90, 48, 24, 16, 24, 58, 64, 33, 51, 70, 71, 23, 77, 8, 33, 32, 18, 49, 53, 94, 28, 100, 32, 11, 16, 87, 14, 71, 10, 61, 54, 15, 38, 40, 44, 50, 60, 16, 6, 95, 42, 19, 35, 87, 79, 16, 19, 64, 11, 85, 66, 56, 56, 30, 89, 59, 53, 6, 31, 88, 69, 66, 30, 60, 42, 74, 78, 22, 16, 24, 4, 3, 90, 73, 3, 82, 88, 50, 76, 16, 28, 11, 17, 8, 80, 95, 94, 65, 52, 59, 32, 35, 67, 23, 11, 15, 0, 24, 100, 72, 42, 0, 20, 38, 90, 21, 20, 61, 92, 96, 47, 77, 2, 7, 4, 2, 89, 63, 40, 39, 14, 82, 25, 26, 86, 23, 1, 15, 94, 88, 100, 47, 19, 67, 4, 63, 27, 54, 67, 72, 24, 26, 20, 30, 37, 84, 35, 45, 98, 93, 90, 8, 53, 12, 13, 74, 40, 56, 70, 71, 91, 81, 32, 98, 12, 56, 75, 44, 78, 10, 18, 35, 13, 45, 48, 36, 98, 17, 37, 63, 78, 68, 0, 92, 83, 53, 4, 12, 5, 51, 17, 39, 6]\n",
            " \n",
            "vamos organizar os dados em roll:\n",
            " \n",
            "[0, 0, 0, 1, 2, 2, 4, 4, 5, 6, 7, 7, 7, 9, 9, 10, 10, 10, 11, 11, 11, 11, 12, 12, 12, 12, 12, 13, 14, 15, 15, 15, 16, 16, 17, 17, 17, 18, 19, 20, 20, 20, 21, 21, 22, 22, 23, 23, 23, 23, 23, 23, 24, 24, 24, 25, 25, 26, 26, 27, 28, 29, 29, 30, 31, 32, 33, 33, 33, 34, 35, 35, 35, 35, 35, 37, 37, 37, 38, 38, 39, 39, 39, 40, 41, 41, 41, 42, 44, 45, 46, 46, 46, 47, 50, 51, 53, 53, 53, 54, 56, 56, 56, 57, 59, 61, 61, 61, 61, 61, 62, 62, 62, 63, 63, 64, 64, 64, 66, 66, 67, 68, 69, 69, 70, 71, 71, 71, 71, 72, 73, 73, 73, 73, 74, 74, 75, 76, 77, 77, 77, 77, 77, 77, 78, 78, 78, 78, 79, 79, 81, 81, 82, 82, 84, 84, 84, 84, 85, 85, 86, 87, 87, 87, 87, 88, 89, 89, 89, 90, 90, 90, 90, 91, 91, 92, 92, 93, 94, 94, 95, 95, 95, 95, 96, 96, 97, 97, 98, 98, 98, 98, 99, 99, 99, 99, 99, 100, 100, 100]\n",
            "[0, 0, 0, 1, 2, 2, 3, 3, 4, 4, 4, 4, 5, 6, 6, 6, 7, 7, 8, 8, 8, 10, 10, 11, 11, 11, 11, 12, 12, 12, 12, 13, 13, 14, 14, 15, 15, 15, 16, 16, 16, 16, 16, 16, 16, 17, 17, 17, 18, 18, 19, 19, 19, 20, 20, 20, 21, 22, 23, 23, 23, 24, 24, 24, 24, 24, 25, 26, 26, 27, 28, 28, 30, 30, 30, 31, 32, 32, 32, 32, 33, 33, 35, 35, 35, 35, 36, 37, 37, 38, 38, 39, 39, 40, 40, 40, 42, 42, 42, 44, 44, 45, 45, 47, 47, 48, 48, 49, 50, 50, 51, 51, 52, 53, 53, 53, 53, 54, 54, 55, 56, 56, 56, 56, 58, 58, 59, 59, 60, 60, 61, 61, 63, 63, 63, 64, 64, 65, 66, 66, 67, 67, 67, 68, 69, 70, 70, 71, 71, 71, 72, 72, 73, 74, 74, 75, 76, 77, 77, 78, 78, 78, 79, 80, 81, 82, 82, 83, 84, 84, 85, 86, 87, 87, 88, 88, 88, 89, 89, 89, 90, 90, 90, 90, 91, 92, 92, 93, 94, 94, 94, 95, 95, 96, 98, 98, 98, 100, 100, 100]\n",
            " \n",
            "média de x é:\n",
            "52.43\n",
            "média de y é:\n",
            "46.24\n",
            " \n",
            "mediana de x é:\n",
            "55.0\n",
            "mediana de y é:\n",
            "44.0\n"
          ],
          "name": "stdout"
        }
      ]
    }
  ]
}