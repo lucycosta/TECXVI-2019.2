{
  "nbformat": 4,
  "nbformat_minor": 0,
  "metadata": {
    "colab": {
      "name": "Lista1.ipynb",
      "version": "0.3.2",
      "provenance": [],
      "collapsed_sections": [],
      "include_colab_link": true
    },
    "kernelspec": {
      "name": "python3",
      "display_name": "Python 3"
    }
  },
  "cells": [
    {
      "cell_type": "markdown",
      "metadata": {
        "id": "view-in-github",
        "colab_type": "text"
      },
      "source": [
        "<a href=\"https://colab.research.google.com/github/lucycosta/TECXVI-2019.2/blob/master/Lista1.ipynb\" target=\"_parent\"><img src=\"https://colab.research.google.com/assets/colab-badge.svg\" alt=\"Open In Colab\"/></a>"
      ]
    },
    {
      "cell_type": "markdown",
      "metadata": {
        "id": "t8rEEjCdIJAs",
        "colab_type": "text"
      },
      "source": [
        "#Tarefa (a)"
      ]
    },
    {
      "cell_type": "markdown",
      "metadata": {
        "id": "mTR9q7bGIKgI",
        "colab_type": "text"
      },
      "source": [
        "##(1)\n",
        "\n",
        "*Big Data*: Realidade vivenciada atualmente em que há um grande volume de dados sendo gerados todo o tempo.\n",
        "\n",
        "*Data Analytics*: Tratamento de dados, com o objetivo de observar tendências e relação de uma variável com ela mesma e/ou com outras, já com um direcionamento prévio. \n",
        "\n",
        "*Data Mining*: Também é o tratamento de dados, porém, diferente do *data analytics*, este tem o objetivo de extrair a maior quantidade de informações possível, sem nenhum tipo de direcionamento inicial.\n",
        "\n",
        "*Business Inteligence*: Estratégias pra melhor exploração do mercado consumidor baseado na análise e mineração de dados descritas anteriormente.\n",
        "\n",
        "##(2)\n",
        "\n",
        "Dados estruturados contém um paradigma organizacional, sem falhas e com características bem definidas. Os não estruturados são todo o resto, isto é, dados com informações faltantes, formatos incomuns de apresentação e sem uma descrição completa (ou, sequer, existente).\n",
        "\n",
        "##(3)\n",
        "\n",
        "Representatividade é a proximidade da população que a amostra recolhida apresenta. Pois havendo uma amostra retirada sem essa preocupação (aleatorizando o máximo possível a amostra), pode gerar inferências pouco precisas.\n",
        "\n",
        "Balanceamento é a padronização dos tamanhos de amostra de cada uma das variáveis, pra não haver nenhuma tendência estabelecida antes do processamento.\n",
        "\n",
        "##(4)\n",
        "\n",
        "*Machine Learning* é um ramo da inteligência artificial, o aprendizado de máquina (algoritmos construídos para analisar e encontrar certos padrões) através do fornecimento de dados para treinamento e teste, e é daí que surge a importância da existência dos dados, sem eles não haveria informações que o programa pudesse usar para aprender. \n",
        "\n",
        "##(5)\n",
        "\n",
        "Definindo o conjunto de todos os dados como a população, amostragem vem a ser um subconjunto dessa população, dessa forma reduzindo a quantidade de dados para fazer análises de forma mais simples e tirar conclusões sobre a população."
      ]
    },
    {
      "cell_type": "markdown",
      "metadata": {
        "id": "zwTG6uB_KAjS",
        "colab_type": "text"
      },
      "source": [
        "#Tarefa (b)"
      ]
    },
    {
      "cell_type": "code",
      "metadata": {
        "id": "L3DG1ctLcE1F",
        "colab_type": "code",
        "outputId": "73bd4e71-f367-4a71-e4a1-c2c662870acf",
        "colab": {
          "base_uri": "https://localhost:8080/",
          "height": 51
        }
      },
      "source": [
        "v1 = [2, -5, -3, 1, 7, 4]\n",
        "v2 = [-9, 2, -1, 4, 3, 4]\n",
        "v3 = [0] * 6\n",
        "\n",
        "# (1)\n",
        "\n",
        "for i in range(6):\n",
        "  v3[i] = v1[i]*v2[i]\n",
        "  \n",
        "print(v3)\n",
        "\n",
        "# a função a seguir (cross_product) foi retirada do site: https://stackoverflow.com/questions/1984799/cross-product-of-two-vectors-in-python\n",
        "\n",
        "def cross_product(u,v):  \n",
        "    dim = len(u)\n",
        "    s = []\n",
        "    for i in range(dim):\n",
        "        if i == 0:\n",
        "            j,k = 1,2\n",
        "            s.append(u[j]*v[k] - u[k]*v[j])\n",
        "        elif i == 1:\n",
        "            j,k = 2,0\n",
        "            s.append(u[j]*v[k] - u[k]*v[j])\n",
        "        else:\n",
        "            j,k = 0,1\n",
        "            s.append(u[j]*v[k] - u[k]*v[j])\n",
        "    return s\n",
        "  \n",
        "v4 = cross_product(v1, v2)\n",
        "\n",
        "print(v4)"
      ],
      "execution_count": 0,
      "outputs": [
        {
          "output_type": "stream",
          "text": [
            "[-18, -10, 3, 4, 21, 16]\n",
            "[11, 29, -41, -41, -41, -41]\n"
          ],
          "name": "stdout"
        }
      ]
    },
    {
      "cell_type": "markdown",
      "metadata": {
        "id": "HtS4Yi_WyuDw",
        "colab_type": "text"
      },
      "source": [
        "#Tarefa (c)"
      ]
    },
    {
      "cell_type": "code",
      "metadata": {
        "id": "-zGPABPWy63i",
        "colab_type": "code",
        "outputId": "8f8409b7-1af5-48cf-bbea-896a15d880a7",
        "colab": {
          "base_uri": "https://localhost:8080/",
          "height": 581
        }
      },
      "source": [
        "import random\n",
        "\n",
        "x = [0]*200\n",
        "y = [0]*200\n",
        "\n",
        "for i in range(200):\n",
        "  x[i] = random.randint(0, 100)\n",
        "  y[i] = random.randint(0, 100)\n",
        "\n",
        "print(x)\n",
        "print(y)\n",
        "print(\" \")\n",
        "print(\"vamos organizar os dados em roll:\")\n",
        "print(\" \")\n",
        "\n",
        "x.sort()\n",
        "y.sort()\n",
        "\n",
        "print(x)\n",
        "print(y)\n",
        "\n",
        "mediax = 0\n",
        "mediay = 0\n",
        "\n",
        "for i in range(200):\n",
        "  mediax = mediax + x[i]\n",
        "  mediay = mediay + y[i]\n",
        "  \n",
        "mediax = mediax/200\n",
        "mediay = mediay/200\n",
        "\n",
        "#(1)\n",
        "\n",
        "print(\" \")\n",
        "\n",
        "print(\"média de x é:\")\n",
        "print(mediax)\n",
        "print(\"média de y é:\")\n",
        "print(mediay)\n",
        "\n",
        "print(\" \")\n",
        "\n",
        "print(\"mediana de x é:\")\n",
        "print((x[99]+x[100])/2)\n",
        "print(\"mediana de y é:\")\n",
        "print((y[99]+y[100])/2)\n",
        "\n",
        "print(\" \")\n",
        "\n",
        "import statistics\n",
        "xmo = statistics.mode(x)\n",
        "ymo = statistics.mode(y)  \n",
        "\n",
        "print(\"moda de x é:\")\n",
        "print(xmo)\n",
        "print(\"moda de y é:\")\n",
        "print(ymo)\n",
        "\n",
        "print(\" \")\n",
        "\n",
        "xvar = statistics.variance(x)\n",
        "yvar = statistics.variance(y) \n",
        "\n",
        "print(\"variância de x é:\")\n",
        "print(xvar)\n",
        "print(\"variância de y é:\")\n",
        "print(yvar)\n",
        "\n",
        "print(\" \")\n",
        "\n",
        "xdp = (xvar ** (1/2))\n",
        "ydp = (yvar ** (1/2))\n",
        "\n",
        "print(\"desvio padrão de x é:\")\n",
        "print(xdp)\n",
        "print(\"desvio padrão de y é:\")\n",
        "print(ydp)\n"
      ],
      "execution_count": 31,
      "outputs": [
        {
          "output_type": "stream",
          "text": [
            "[52, 65, 14, 8, 4, 71, 79, 46, 8, 34, 68, 93, 50, 100, 49, 8, 35, 36, 81, 89, 8, 51, 71, 20, 63, 65, 65, 65, 41, 31, 7, 22, 65, 56, 56, 79, 94, 86, 74, 80, 12, 13, 71, 17, 90, 59, 17, 48, 89, 48, 85, 92, 48, 25, 98, 43, 20, 45, 40, 54, 98, 54, 11, 82, 92, 67, 82, 97, 70, 0, 57, 39, 90, 85, 79, 6, 76, 35, 55, 43, 86, 39, 63, 73, 7, 3, 100, 59, 54, 90, 39, 81, 82, 15, 99, 27, 44, 62, 51, 5, 67, 38, 28, 80, 42, 29, 87, 76, 74, 16, 70, 61, 77, 55, 52, 72, 46, 100, 30, 5, 46, 56, 91, 13, 43, 86, 74, 1, 87, 41, 91, 0, 83, 30, 83, 52, 64, 46, 89, 13, 30, 7, 38, 25, 63, 6, 47, 86, 44, 87, 27, 12, 78, 56, 51, 36, 4, 87, 57, 98, 93, 54, 51, 55, 26, 44, 21, 64, 83, 14, 73, 4, 90, 39, 11, 55, 19, 61, 48, 82, 47, 45, 49, 20, 54, 62, 69, 43, 74, 39, 17, 39, 98, 51, 9, 42, 7, 26, 72, 48]\n",
            "[45, 96, 74, 77, 86, 54, 56, 47, 3, 14, 9, 28, 65, 85, 21, 100, 15, 89, 91, 12, 40, 74, 25, 68, 65, 53, 75, 28, 14, 87, 97, 30, 11, 66, 73, 93, 80, 12, 22, 17, 87, 58, 21, 71, 50, 3, 83, 65, 24, 48, 33, 91, 46, 79, 84, 29, 13, 35, 12, 96, 78, 76, 100, 29, 21, 28, 17, 32, 27, 54, 6, 21, 17, 76, 47, 85, 43, 19, 59, 77, 73, 14, 18, 54, 91, 27, 88, 6, 9, 67, 0, 93, 1, 38, 51, 80, 38, 92, 99, 71, 10, 14, 69, 86, 86, 17, 78, 98, 32, 49, 46, 3, 77, 50, 60, 100, 22, 8, 93, 55, 83, 74, 75, 53, 22, 32, 11, 67, 33, 3, 72, 95, 65, 83, 86, 30, 14, 98, 13, 7, 50, 40, 96, 72, 42, 23, 46, 65, 8, 11, 1, 61, 3, 62, 46, 4, 30, 37, 49, 61, 32, 98, 14, 49, 67, 99, 82, 32, 60, 13, 49, 31, 74, 95, 64, 25, 0, 6, 10, 88, 95, 93, 8, 66, 53, 0, 52, 91, 54, 64, 8, 70, 61, 39, 40, 42, 97, 1, 67, 66]\n",
            " \n",
            "vamos organizar os dados em roll:\n",
            " \n",
            "[0, 0, 1, 3, 4, 4, 4, 5, 5, 6, 6, 7, 7, 7, 7, 8, 8, 8, 8, 9, 11, 11, 12, 12, 13, 13, 13, 14, 14, 15, 16, 17, 17, 17, 19, 20, 20, 20, 21, 22, 25, 25, 26, 26, 27, 27, 28, 29, 30, 30, 30, 31, 34, 35, 35, 36, 36, 38, 38, 39, 39, 39, 39, 39, 39, 40, 41, 41, 42, 42, 43, 43, 43, 43, 44, 44, 44, 45, 45, 46, 46, 46, 46, 47, 47, 48, 48, 48, 48, 48, 49, 49, 50, 51, 51, 51, 51, 51, 52, 52, 52, 54, 54, 54, 54, 54, 55, 55, 55, 55, 56, 56, 56, 56, 57, 57, 59, 59, 61, 61, 62, 62, 63, 63, 63, 64, 64, 65, 65, 65, 65, 65, 67, 67, 68, 69, 70, 70, 71, 71, 71, 72, 72, 73, 73, 74, 74, 74, 74, 76, 76, 77, 78, 79, 79, 79, 80, 80, 81, 81, 82, 82, 82, 82, 83, 83, 83, 85, 85, 86, 86, 86, 86, 87, 87, 87, 87, 89, 89, 89, 90, 90, 90, 90, 91, 91, 92, 92, 93, 93, 94, 97, 98, 98, 98, 98, 99, 100, 100, 100]\n",
            "[0, 0, 0, 1, 1, 1, 3, 3, 3, 3, 3, 4, 6, 6, 6, 7, 8, 8, 8, 8, 9, 9, 10, 10, 11, 11, 11, 12, 12, 12, 13, 13, 13, 14, 14, 14, 14, 14, 14, 15, 17, 17, 17, 17, 18, 19, 21, 21, 21, 21, 22, 22, 22, 23, 24, 25, 25, 27, 27, 28, 28, 28, 29, 29, 30, 30, 30, 31, 32, 32, 32, 32, 32, 33, 33, 35, 37, 38, 38, 39, 40, 40, 40, 42, 42, 43, 45, 46, 46, 46, 46, 47, 47, 48, 49, 49, 49, 49, 50, 50, 50, 51, 52, 53, 53, 53, 54, 54, 54, 54, 55, 56, 58, 59, 60, 60, 61, 61, 61, 62, 64, 64, 65, 65, 65, 65, 65, 66, 66, 66, 67, 67, 67, 67, 68, 69, 70, 71, 71, 72, 72, 73, 73, 74, 74, 74, 74, 75, 75, 76, 76, 77, 77, 77, 78, 78, 79, 80, 80, 82, 83, 83, 83, 84, 85, 85, 86, 86, 86, 86, 87, 87, 88, 88, 89, 91, 91, 91, 91, 92, 93, 93, 93, 93, 95, 95, 95, 96, 96, 96, 97, 97, 98, 98, 98, 99, 99, 100, 100, 100]\n",
            " \n",
            "média de x é:\n",
            "52.155\n",
            "média de y é:\n",
            "49.89\n",
            " \n",
            "mediana de x é:\n",
            "52.0\n",
            "mediana de y é:\n",
            "50.0\n",
            " \n",
            "moda de x é:\n",
            "39\n",
            "moda de y é:\n",
            "14\n",
            " \n",
            "variância de x é:\n",
            "788.0411809045227\n",
            "variância de y é:\n",
            "936.2290452261307\n",
            " \n",
            "desvio padrão de x é:\n",
            "28.072071190144175\n",
            "desvio padrão de y é:\n",
            "30.59786014129306\n"
          ],
          "name": "stdout"
        }
      ]
    }
  ]
}