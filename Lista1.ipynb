{
  "nbformat": 4,
  "nbformat_minor": 0,
  "metadata": {
    "colab": {
      "name": "Lista1.ipynb",
      "version": "0.3.2",
      "provenance": [],
      "collapsed_sections": [],
      "include_colab_link": true
    },
    "kernelspec": {
      "name": "python3",
      "display_name": "Python 3"
    }
  },
  "cells": [
    {
      "cell_type": "markdown",
      "metadata": {
        "id": "view-in-github",
        "colab_type": "text"
      },
      "source": [
        "<a href=\"https://colab.research.google.com/github/lucycosta/TECXVI-2019.2/blob/master/Lista1.ipynb\" target=\"_parent\"><img src=\"https://colab.research.google.com/assets/colab-badge.svg\" alt=\"Open In Colab\"/></a>"
      ]
    },
    {
      "cell_type": "markdown",
      "metadata": {
        "id": "t8rEEjCdIJAs",
        "colab_type": "text"
      },
      "source": [
        "#Tarefa (a)"
      ]
    },
    {
      "cell_type": "markdown",
      "metadata": {
        "id": "mTR9q7bGIKgI",
        "colab_type": "text"
      },
      "source": [
        "##(1)\n",
        "\n",
        "*Big Data*: Realidade vivenciada atualmente em que há um grande volume de dados sendo gerados todo o tempo.\n",
        "\n",
        "*Data Analytics*: Tratamento de dados, com o objetivo de observar tendências e relação de uma variável com ela mesma e/ou com outras, já com um direcionamento prévio. \n",
        "\n",
        "*Data Mining*: Também é o tratamento de dados, porém, diferente do *data analytics*, este tem o objetivo de extrair a maior quantidade de informações possível, sem nenhum tipo de direcionamento inicial.\n",
        "\n",
        "*Business Inteligence*: Estratégias pra melhor exploração do mercado consumidor baseado na análise e mineração de dados descritas anteriormente.\n",
        "\n",
        "##(2)\n",
        "\n",
        "Dados estruturados contém um paradigma organizacional, sem falhas e com características bem definidas. Os não estruturados são todo o resto, isto é, dados com informações faltantes, formatos incomuns de apresentação e sem uma descrição completa (ou, sequer, existente).\n",
        "\n",
        "##(3)\n",
        "\n",
        "Representatividade é a proximidade da população que a amostra recolhida apresenta. Pois havendo uma amostra retirada sem essa preocupação (aleatorizando o máximo possível a amostra), pode gerar inferências pouco precisas.\n",
        "\n",
        "Balanceamento é a padronização dos tamanhos de amostra de cada uma das variáveis, pra não haver nenhuma tendência estabelecida antes do processamento.\n",
        "\n",
        "##(4)\n",
        "\n",
        "*Machine Learning* é um ramo da inteligência artificial, o aprendizado de máquina (algoritmos construídos para analisar e encontrar certos padrões) através do fornecimento de dados para treinamento e teste, e é daí que surge a importância da existência dos dados, sem eles não haveria informações que o programa pudesse usar para aprender. \n",
        "\n",
        "##(5)\n",
        "\n",
        "Definindo o conjunto de todos os dados como a população, amostragem vem a ser um subconjunto dessa população, dessa forma reduzindo a quantidade de dados para fazer análises de forma mais simples e tirar conclusões sobre a população."
      ]
    },
    {
      "cell_type": "markdown",
      "metadata": {
        "id": "zwTG6uB_KAjS",
        "colab_type": "text"
      },
      "source": [
        "#Tarefa (b)"
      ]
    },
    {
      "cell_type": "code",
      "metadata": {
        "id": "L3DG1ctLcE1F",
        "colab_type": "code",
        "outputId": "73bd4e71-f367-4a71-e4a1-c2c662870acf",
        "colab": {
          "base_uri": "https://localhost:8080/",
          "height": 51
        }
      },
      "source": [
        "v1 = [2, -5, -3, 1, 7, 4]\n",
        "v2 = [-9, 2, -1, 4, 3, 4]\n",
        "v3 = [0] * 6\n",
        "\n",
        "# (1)\n",
        "\n",
        "for i in range(6):\n",
        "  v3[i] = v1[i]*v2[i]\n",
        "  \n",
        "print(v3)\n",
        "\n",
        "# a função a seguir (cross_product) foi retirada do site: https://stackoverflow.com/questions/1984799/cross-product-of-two-vectors-in-python\n",
        "\n",
        "def cross_product(u,v):  \n",
        "    dim = len(u)\n",
        "    s = []\n",
        "    for i in range(dim):\n",
        "        if i == 0:\n",
        "            j,k = 1,2\n",
        "            s.append(u[j]*v[k] - u[k]*v[j])\n",
        "        elif i == 1:\n",
        "            j,k = 2,0\n",
        "            s.append(u[j]*v[k] - u[k]*v[j])\n",
        "        else:\n",
        "            j,k = 0,1\n",
        "            s.append(u[j]*v[k] - u[k]*v[j])\n",
        "    return s\n",
        "  \n",
        "v4 = cross_product(v1, v2)\n",
        "\n",
        "print(v4)"
      ],
      "execution_count": 0,
      "outputs": [
        {
          "output_type": "stream",
          "text": [
            "[-18, -10, 3, 4, 21, 16]\n",
            "[11, 29, -41, -41, -41, -41]\n"
          ],
          "name": "stdout"
        }
      ]
    },
    {
      "cell_type": "markdown",
      "metadata": {
        "id": "HtS4Yi_WyuDw",
        "colab_type": "text"
      },
      "source": [
        "#Tarefa (c)"
      ]
    },
    {
      "cell_type": "code",
      "metadata": {
        "id": "-zGPABPWy63i",
        "colab_type": "code",
        "outputId": "c512ad89-5443-48bc-cf4b-6d4a14aaf34c",
        "colab": {
          "base_uri": "https://localhost:8080/",
          "height": 341
        }
      },
      "source": [
        "import random\n",
        "\n",
        "x = [0]*200\n",
        "y = [0]*200\n",
        "\n",
        "for i in range(200):\n",
        "  x[i] = random.randint(0, 100)\n",
        "  y[i] = random.randint(0, 100)\n",
        "\n",
        "print(x)\n",
        "print(y)\n",
        "print(\" \")\n",
        "print(\"vamos organizar os dados em roll:\")\n",
        "print(\" \")\n",
        "\n",
        "x.sort()\n",
        "y.sort()\n",
        "\n",
        "print(x)\n",
        "print(y)\n",
        "\n",
        "mediax = 0\n",
        "mediay = 0\n",
        "\n",
        "for i in range(200):\n",
        "  mediax = mediax + x[i]\n",
        "  mediay = mediay + y[i]\n",
        "  \n",
        "mediax = mediax/200\n",
        "mediay = mediay/200\n",
        "  \n",
        "print(\" \")\n",
        "\n",
        "print(\"média de x é:\")\n",
        "print(mediax)\n",
        "print(\"média de y é:\")\n",
        "print(mediay)\n",
        "\n",
        "print(\" \")\n",
        "\n",
        "print(\"mediana de x é:\")\n",
        "print((x[99]+x[100])/2)\n",
        "print(\"mediana de y é:\")\n",
        "print((y[99]+y[100])/2)\n",
        "\n"
      ],
      "execution_count": 10,
      "outputs": [
        {
          "output_type": "stream",
          "text": [
            "[35, 2, 36, 93, 24, 6, 55, 29, 57, 27, 95, 99, 99, 8, 50, 6, 76, 100, 18, 33, 70, 37, 93, 3, 76, 65, 3, 50, 85, 62, 76, 82, 32, 7, 95, 49, 83, 98, 46, 62, 31, 1, 83, 53, 51, 86, 73, 47, 99, 93, 15, 44, 70, 16, 19, 34, 56, 15, 60, 50, 96, 40, 69, 78, 34, 43, 43, 47, 13, 55, 15, 86, 97, 99, 75, 33, 33, 66, 87, 60, 98, 47, 2, 86, 39, 10, 70, 67, 60, 7, 24, 82, 17, 42, 87, 82, 96, 25, 93, 33, 1, 23, 60, 76, 52, 19, 49, 40, 0, 32, 27, 16, 34, 55, 42, 38, 12, 69, 46, 60, 88, 4, 68, 66, 99, 48, 12, 7, 65, 93, 43, 9, 25, 19, 35, 91, 88, 27, 68, 30, 67, 20, 79, 41, 99, 4, 55, 75, 15, 75, 64, 85, 51, 57, 74, 41, 84, 54, 2, 47, 7, 21, 54, 91, 42, 95, 84, 73, 35, 89, 86, 72, 6, 24, 5, 42, 38, 72, 54, 97, 11, 37, 28, 37, 20, 34, 56, 85, 80, 41, 29, 74, 92, 27, 91, 53, 97, 32, 12, 42]\n",
            "[13, 21, 63, 44, 96, 18, 99, 39, 4, 36, 41, 72, 73, 95, 89, 31, 36, 36, 51, 94, 99, 33, 57, 92, 44, 47, 31, 3, 49, 20, 11, 87, 17, 19, 43, 7, 72, 8, 20, 90, 36, 82, 2, 58, 27, 45, 1, 65, 43, 63, 24, 95, 36, 8, 16, 97, 56, 77, 81, 9, 93, 39, 45, 79, 81, 53, 60, 93, 25, 29, 53, 27, 66, 66, 15, 59, 100, 88, 98, 73, 91, 57, 7, 10, 27, 6, 21, 55, 93, 31, 3, 18, 67, 75, 3, 49, 48, 94, 91, 82, 48, 26, 25, 81, 42, 94, 62, 40, 93, 33, 68, 13, 86, 20, 36, 56, 28, 52, 41, 95, 95, 23, 57, 84, 50, 59, 92, 90, 53, 16, 60, 67, 96, 57, 24, 54, 83, 96, 9, 39, 98, 17, 6, 84, 27, 59, 43, 28, 100, 93, 57, 55, 66, 41, 52, 24, 29, 91, 78, 44, 40, 95, 47, 41, 35, 38, 15, 25, 61, 85, 18, 29, 16, 68, 34, 1, 7, 41, 8, 33, 11, 37, 10, 63, 74, 75, 70, 59, 48, 12, 26, 2, 65, 3, 69, 92, 72, 9, 76, 45]\n",
            " \n",
            "vamos organizar os dados em roll:\n",
            " \n",
            "[0, 1, 1, 2, 2, 2, 3, 3, 4, 4, 5, 6, 6, 6, 7, 7, 7, 7, 8, 9, 10, 11, 12, 12, 12, 13, 15, 15, 15, 15, 16, 16, 17, 18, 19, 19, 19, 20, 20, 21, 23, 24, 24, 24, 25, 25, 27, 27, 27, 27, 28, 29, 29, 30, 31, 32, 32, 32, 33, 33, 33, 33, 34, 34, 34, 34, 35, 35, 35, 36, 37, 37, 37, 38, 38, 39, 40, 40, 41, 41, 41, 42, 42, 42, 42, 42, 43, 43, 43, 44, 46, 46, 47, 47, 47, 47, 48, 49, 49, 50, 50, 50, 51, 51, 52, 53, 53, 54, 54, 54, 55, 55, 55, 55, 56, 56, 57, 57, 60, 60, 60, 60, 60, 62, 62, 64, 65, 65, 66, 66, 67, 67, 68, 68, 69, 69, 70, 70, 70, 72, 72, 73, 73, 74, 74, 75, 75, 75, 76, 76, 76, 76, 78, 79, 80, 82, 82, 82, 83, 83, 84, 84, 85, 85, 85, 86, 86, 86, 86, 87, 87, 88, 88, 89, 91, 91, 91, 92, 93, 93, 93, 93, 93, 95, 95, 95, 96, 96, 97, 97, 97, 98, 98, 99, 99, 99, 99, 99, 99, 100]\n",
            "[1, 1, 2, 2, 3, 3, 3, 3, 4, 6, 6, 7, 7, 7, 8, 8, 8, 9, 9, 9, 10, 10, 11, 11, 12, 13, 13, 15, 15, 16, 16, 16, 17, 17, 18, 18, 18, 19, 20, 20, 20, 21, 21, 23, 24, 24, 24, 25, 25, 25, 26, 26, 27, 27, 27, 27, 28, 28, 29, 29, 29, 31, 31, 31, 33, 33, 33, 34, 35, 36, 36, 36, 36, 36, 36, 37, 38, 39, 39, 39, 40, 40, 41, 41, 41, 41, 41, 42, 43, 43, 43, 44, 44, 44, 45, 45, 45, 47, 47, 48, 48, 48, 49, 49, 50, 51, 52, 52, 53, 53, 53, 54, 55, 55, 56, 56, 57, 57, 57, 57, 57, 58, 59, 59, 59, 59, 60, 60, 61, 62, 63, 63, 63, 65, 65, 66, 66, 66, 67, 67, 68, 68, 69, 70, 72, 72, 72, 73, 73, 74, 75, 75, 76, 77, 78, 79, 81, 81, 81, 82, 82, 83, 84, 84, 85, 86, 87, 88, 89, 90, 90, 91, 91, 91, 92, 92, 92, 93, 93, 93, 93, 93, 94, 94, 94, 95, 95, 95, 95, 95, 96, 96, 96, 97, 98, 98, 99, 99, 100, 100]\n",
            " \n",
            "média de x é:\n",
            "51.22\n",
            "média de y é:\n",
            "49.905\n",
            " \n",
            "mediana de x é:\n",
            "50.0\n",
            "mediana de y é:\n",
            "48.0\n"
          ],
          "name": "stdout"
        }
      ]
    }
  ]
}