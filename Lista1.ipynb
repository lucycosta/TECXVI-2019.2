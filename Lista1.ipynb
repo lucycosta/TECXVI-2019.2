{
  "nbformat": 4,
  "nbformat_minor": 0,
  "metadata": {
    "colab": {
      "name": "Lista1.ipynb",
      "version": "0.3.2",
      "provenance": [],
      "collapsed_sections": [],
      "include_colab_link": true
    },
    "kernelspec": {
      "name": "python3",
      "display_name": "Python 3"
    }
  },
  "cells": [
    {
      "cell_type": "markdown",
      "metadata": {
        "id": "view-in-github",
        "colab_type": "text"
      },
      "source": [
        "<a href=\"https://colab.research.google.com/github/lucycosta/TECXVI-2019.2/blob/master/Lista1.ipynb\" target=\"_parent\"><img src=\"https://colab.research.google.com/assets/colab-badge.svg\" alt=\"Open In Colab\"/></a>"
      ]
    },
    {
      "cell_type": "markdown",
      "metadata": {
        "id": "t8rEEjCdIJAs",
        "colab_type": "text"
      },
      "source": [
        "#Tarefa (a)"
      ]
    },
    {
      "cell_type": "markdown",
      "metadata": {
        "id": "mTR9q7bGIKgI",
        "colab_type": "text"
      },
      "source": [
        "##(1)\n",
        "\n",
        "*Big Data*: Realidade vivenciada atualmente em que há um grande volume de dados sendo gerados todo o tempo.\n",
        "\n",
        "*Data Analytics*: Tratamento de dados, com o objetivo de observar tendências e relação de uma variável com ela mesma e/ou com outras, já com um direcionamento prévio. \n",
        "\n",
        "*Data Mining*: Também é o tratamento de dados, porém, diferente do *data analytics*, este tem o objetivo de extrair a maior quantidade de informações possível, sem nenhum tipo de direcionamento inicial.\n",
        "\n",
        "*Business Inteligence*: Estratégias pra melhor exploração do mercado consumidor baseado na análise e mineração de dados descritas anteriormente.\n",
        "\n",
        "##(2)\n",
        "\n",
        "Dados estruturados contém um paradigma organizacional, sem falhas e com características bem definidas. Os não estruturados são todo o resto, isto é, dados com informações faltantes, formatos incomuns de apresentação e sem uma descrição completa (ou, sequer, existente).\n",
        "\n",
        "##(3)\n",
        "\n",
        "Representatividade é a proximidade da população que a amostra recolhida apresenta. Pois havendo uma amostra retirada sem essa preocupação (aleatorizando o máximo possível a amostra), pode gerar inferências pouco precisas.\n",
        "\n",
        "Balanceamento é a padronização dos tamanhos de amostra de cada uma das variáveis, pra não haver nenhuma tendência estabelecida antes do processamento.\n",
        "\n",
        "##(4)\n",
        "\n",
        "*Machine Learning* é um ramo da inteligência artificial, o aprendizado de máquina (algoritmos construídos para analisar e encontrar certos padrões) através do fornecimento de dados para treinamento e teste, e é daí que surge a importância da existência dos dados, sem eles não haveria informações que o programa pudesse usar para aprender. \n",
        "\n",
        "##(5)\n",
        "\n",
        "Definindo o conjunto de todos os dados como a população, amostragem vem a ser um subconjunto dessa população, dessa forma reduzindo a quantidade de dados para fazer análises de forma mais simples e tirar conclusões sobre a população."
      ]
    },
    {
      "cell_type": "markdown",
      "metadata": {
        "id": "zwTG6uB_KAjS",
        "colab_type": "text"
      },
      "source": [
        "#Tarefa (b)"
      ]
    },
    {
      "cell_type": "code",
      "metadata": {
        "id": "L3DG1ctLcE1F",
        "colab_type": "code",
        "outputId": "73bd4e71-f367-4a71-e4a1-c2c662870acf",
        "colab": {
          "base_uri": "https://localhost:8080/",
          "height": 51
        }
      },
      "source": [
        "v1 = [2, -5, -3, 1, 7, 4]\n",
        "v2 = [-9, 2, -1, 4, 3, 4]\n",
        "v3 = [0] * 6\n",
        "\n",
        "# (1)\n",
        "\n",
        "for i in range(6):\n",
        "  v3[i] = v1[i]*v2[i]\n",
        "  \n",
        "print(v3)\n",
        "\n",
        "# a função a seguir (cross_product) foi retirada do site: https://stackoverflow.com/questions/1984799/cross-product-of-two-vectors-in-python\n",
        "\n",
        "def cross_product(u,v):  \n",
        "    dim = len(u)\n",
        "    s = []\n",
        "    for i in range(dim):\n",
        "        if i == 0:\n",
        "            j,k = 1,2\n",
        "            s.append(u[j]*v[k] - u[k]*v[j])\n",
        "        elif i == 1:\n",
        "            j,k = 2,0\n",
        "            s.append(u[j]*v[k] - u[k]*v[j])\n",
        "        else:\n",
        "            j,k = 0,1\n",
        "            s.append(u[j]*v[k] - u[k]*v[j])\n",
        "    return s\n",
        "  \n",
        "v4 = cross_product(v1, v2)\n",
        "\n",
        "print(v4)"
      ],
      "execution_count": 0,
      "outputs": [
        {
          "output_type": "stream",
          "text": [
            "[-18, -10, 3, 4, 21, 16]\n",
            "[11, 29, -41, -41, -41, -41]\n"
          ],
          "name": "stdout"
        }
      ]
    },
    {
      "cell_type": "markdown",
      "metadata": {
        "id": "HtS4Yi_WyuDw",
        "colab_type": "text"
      },
      "source": [
        "#Tarefa (c)"
      ]
    },
    {
      "cell_type": "code",
      "metadata": {
        "id": "-zGPABPWy63i",
        "colab_type": "code",
        "outputId": "34036af6-5c8f-458e-9875-0b964a58e083",
        "colab": {
          "base_uri": "https://localhost:8080/",
          "height": 615
        }
      },
      "source": [
        "import random\n",
        "\n",
        "x = [0]*200\n",
        "y = [0]*200\n",
        "\n",
        "for i in range(200):\n",
        "  x[i] = random.randint(0, 100)\n",
        "  y[i] = random.randint(0, 100)\n",
        "\n",
        "print(x)\n",
        "print(y)\n",
        "print(\" \")\n",
        "print(\"vamos organizar os dados em roll:\")\n",
        "print(\" \")\n",
        "\n",
        "x.sort()\n",
        "y.sort()\n",
        "\n",
        "print(x)\n",
        "print(y)\n",
        "\n",
        "mediax = 0\n",
        "mediay = 0\n",
        "\n",
        "for i in range(200):\n",
        "  mediax = mediax + x[i]\n",
        "  mediay = mediay + y[i]\n",
        "  \n",
        "mediax = mediax/200\n",
        "mediay = mediay/200\n",
        "\n",
        "#(1)\n",
        "\n",
        "print(\" \")\n",
        "\n",
        "print(\"média de x é:\")\n",
        "print(mediax)\n",
        "print(\"média de y é:\")\n",
        "print(mediay)\n",
        "\n",
        "print(\" \")\n",
        "\n",
        "print(\"mediana de x é:\")\n",
        "print((x[99]+x[100])/2)\n",
        "print(\"mediana de y é:\")\n",
        "print((y[99]+y[100])/2)\n",
        "\n",
        "print(\" \")\n",
        "\n",
        "import statistics\n",
        "xmo = statistics.mode(x)\n",
        "ymo = statistics.mode(y)  \n",
        "\n",
        "print(\"moda de x é:\")\n",
        "print(xmo)\n",
        "print(\"moda de y é:\")\n",
        "print(ymo)\n",
        "\n",
        "print(\" \")\n",
        "\n",
        "xvar = statistics.variance(x)\n",
        "yvar = statistics.variance(y) \n",
        "\n",
        "print(\"variância de x é:\")\n",
        "print(xvar)\n",
        "print(\"variância de y é:\")\n",
        "print(yvar)\n",
        "\n",
        "print(\" \")\n",
        "\n",
        "xdp = (xvar ** (1/2))\n",
        "ydp = (yvar ** (1/2))\n",
        "\n",
        "print(\"desvio padrão de x é:\")\n",
        "print(xdp)\n",
        "print(\"desvio padrão de y é:\")\n",
        "print(ydp)\n",
        "\n",
        "print(\" \")\n",
        "\n",
        "# (2)\n",
        "\n",
        "for i in range(200):\n",
        "  correlacao = (x[i] - mediax)*(y[i] - mediay)\n",
        "  \n",
        "correlacao = correlacao/(199*xdp*ydp)\n",
        "print(correlacao)\n"
      ],
      "execution_count": 34,
      "outputs": [
        {
          "output_type": "stream",
          "text": [
            "[61, 80, 60, 2, 86, 12, 32, 3, 37, 50, 44, 92, 80, 59, 82, 48, 46, 7, 41, 47, 9, 77, 90, 94, 64, 91, 42, 40, 94, 77, 98, 53, 28, 96, 24, 2, 66, 65, 94, 55, 25, 13, 53, 56, 69, 48, 63, 36, 14, 44, 40, 77, 87, 83, 99, 31, 48, 48, 67, 15, 96, 54, 57, 40, 67, 92, 69, 13, 71, 23, 58, 59, 42, 83, 83, 27, 36, 80, 46, 34, 26, 13, 76, 34, 65, 79, 65, 10, 30, 88, 67, 99, 65, 50, 59, 42, 37, 19, 59, 65, 56, 23, 13, 29, 50, 88, 80, 57, 33, 56, 90, 18, 22, 39, 97, 18, 2, 2, 37, 72, 37, 65, 79, 5, 8, 19, 52, 46, 37, 61, 5, 86, 33, 49, 36, 92, 31, 80, 32, 83, 50, 85, 14, 22, 87, 12, 97, 27, 24, 88, 64, 9, 99, 82, 35, 90, 38, 97, 83, 80, 42, 99, 57, 6, 97, 72, 47, 3, 4, 0, 68, 73, 0, 45, 65, 81, 72, 49, 3, 44, 65, 84, 9, 17, 12, 44, 97, 43, 32, 32, 41, 30, 34, 75, 69, 45, 34, 40, 30, 95]\n",
            "[67, 58, 19, 22, 72, 15, 10, 64, 93, 13, 36, 3, 36, 75, 82, 14, 54, 81, 57, 21, 40, 69, 84, 100, 54, 97, 44, 42, 54, 45, 72, 84, 20, 70, 33, 38, 39, 73, 89, 50, 89, 90, 34, 74, 50, 36, 18, 59, 31, 41, 86, 5, 86, 30, 55, 5, 53, 91, 37, 4, 55, 49, 36, 6, 34, 91, 76, 41, 68, 67, 5, 6, 11, 6, 40, 92, 34, 85, 8, 27, 35, 26, 23, 18, 56, 45, 33, 89, 24, 54, 19, 92, 7, 69, 56, 11, 21, 37, 37, 79, 45, 76, 39, 22, 16, 100, 92, 61, 13, 40, 17, 64, 86, 17, 51, 89, 59, 5, 72, 97, 94, 50, 99, 61, 51, 53, 11, 67, 6, 65, 76, 80, 48, 18, 24, 1, 45, 98, 80, 82, 58, 51, 39, 98, 75, 42, 99, 22, 4, 26, 35, 33, 61, 58, 31, 54, 0, 56, 45, 36, 97, 86, 77, 50, 91, 29, 46, 97, 10, 39, 96, 21, 33, 80, 31, 45, 81, 49, 43, 87, 52, 42, 5, 81, 75, 86, 59, 52, 45, 50, 44, 95, 32, 8, 61, 41, 97, 39, 82, 86]\n",
            " \n",
            "vamos organizar os dados em roll:\n",
            " \n",
            "[0, 0, 2, 2, 2, 2, 3, 3, 3, 4, 5, 5, 6, 7, 8, 9, 9, 9, 10, 12, 12, 12, 13, 13, 13, 13, 14, 14, 15, 17, 18, 18, 19, 19, 22, 22, 23, 23, 24, 24, 25, 26, 27, 27, 28, 29, 30, 30, 30, 31, 31, 32, 32, 32, 32, 33, 33, 34, 34, 34, 34, 35, 36, 36, 36, 37, 37, 37, 37, 37, 38, 39, 40, 40, 40, 40, 41, 41, 42, 42, 42, 42, 43, 44, 44, 44, 44, 45, 45, 46, 46, 46, 47, 47, 48, 48, 48, 48, 49, 49, 50, 50, 50, 50, 52, 53, 53, 54, 55, 56, 56, 56, 57, 57, 57, 58, 59, 59, 59, 59, 60, 61, 61, 63, 64, 64, 65, 65, 65, 65, 65, 65, 65, 65, 66, 67, 67, 67, 68, 69, 69, 69, 71, 72, 72, 72, 73, 75, 76, 77, 77, 77, 79, 79, 80, 80, 80, 80, 80, 80, 81, 82, 82, 83, 83, 83, 83, 83, 84, 85, 86, 86, 87, 87, 88, 88, 88, 90, 90, 90, 91, 92, 92, 92, 94, 94, 94, 95, 96, 96, 97, 97, 97, 97, 97, 98, 99, 99, 99, 99]\n",
            "[0, 1, 3, 4, 4, 5, 5, 5, 5, 5, 6, 6, 6, 6, 7, 8, 8, 10, 10, 11, 11, 11, 13, 13, 14, 15, 16, 17, 17, 18, 18, 18, 19, 19, 20, 21, 21, 21, 22, 22, 22, 23, 24, 24, 26, 26, 27, 29, 30, 31, 31, 31, 32, 33, 33, 33, 33, 34, 34, 34, 35, 35, 36, 36, 36, 36, 36, 37, 37, 37, 38, 39, 39, 39, 39, 39, 40, 40, 40, 41, 41, 41, 42, 42, 42, 43, 44, 44, 45, 45, 45, 45, 45, 45, 45, 46, 48, 49, 49, 50, 50, 50, 50, 50, 51, 51, 51, 52, 52, 53, 53, 54, 54, 54, 54, 54, 55, 55, 56, 56, 56, 57, 58, 58, 58, 59, 59, 59, 61, 61, 61, 61, 64, 64, 65, 67, 67, 67, 68, 69, 69, 70, 72, 72, 72, 73, 74, 75, 75, 75, 76, 76, 76, 77, 79, 80, 80, 80, 81, 81, 81, 82, 82, 82, 84, 84, 85, 86, 86, 86, 86, 86, 86, 87, 89, 89, 89, 89, 90, 91, 91, 91, 92, 92, 92, 93, 94, 95, 96, 97, 97, 97, 97, 97, 98, 98, 99, 99, 100, 100]\n",
            " \n",
            "média de x é:\n",
            "51.39\n",
            "média de y é:\n",
            "50.72\n",
            " \n",
            "mediana de x é:\n",
            "49.5\n",
            "mediana de y é:\n",
            "50.0\n",
            " \n",
            "moda de x é:\n",
            "65\n",
            "moda de y é:\n",
            "45\n",
            " \n",
            "variância de x é:\n",
            "799.8370854271357\n",
            "variância de y é:\n",
            "795.0468341708543\n",
            " \n",
            "desvio padrão de x é:\n",
            "28.28139115084574\n",
            "desvio padrão de y é:\n",
            "28.19657486594523\n",
            " \n",
            "0.014784909806084011\n"
          ],
          "name": "stdout"
        }
      ]
    },
    {
      "cell_type": "markdown",
      "metadata": {
        "id": "C1BCbu9YXeCG",
        "colab_type": "text"
      },
      "source": [
        "##(3)\n",
        "Representa o grau de correlção de duas variáveis.  Um resultado -1 representa que o conjunto de dados tem direções opostas, um resultado 1 indica que elas são iguais e o 0 indica que são linearmente independentes."
      ]
    }
  ]
}