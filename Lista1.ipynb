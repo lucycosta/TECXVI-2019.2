{
  "nbformat": 4,
  "nbformat_minor": 0,
  "metadata": {
    "colab": {
      "name": "Lista1.ipynb",
      "version": "0.3.2",
      "provenance": [],
      "collapsed_sections": [],
      "include_colab_link": true
    },
    "kernelspec": {
      "name": "python3",
      "display_name": "Python 3"
    }
  },
  "cells": [
    {
      "cell_type": "markdown",
      "metadata": {
        "id": "view-in-github",
        "colab_type": "text"
      },
      "source": [
        "<a href=\"https://colab.research.google.com/github/lucycosta/TECXVI-2019.2/blob/master/Lista1.ipynb\" target=\"_parent\"><img src=\"https://colab.research.google.com/assets/colab-badge.svg\" alt=\"Open In Colab\"/></a>"
      ]
    },
    {
      "cell_type": "markdown",
      "metadata": {
        "id": "t8rEEjCdIJAs",
        "colab_type": "text"
      },
      "source": [
        "#Tarefa (a)"
      ]
    },
    {
      "cell_type": "markdown",
      "metadata": {
        "id": "mTR9q7bGIKgI",
        "colab_type": "text"
      },
      "source": [
        "##(1)\n",
        "\n",
        "Big Data: Realidade vivenciada atualmente em que há um grande volume de dados sendo gerados todo o tempo.\n",
        "\n",
        "Data Analytics: Tratamento e observação de dados, com o objetivo de extrair a maior quantidade de informações possível.\n",
        "\n",
        "Data Mining: Também é o tratamento e observação de dados, mas diferente do data analytics, este tem o objetivo de identificar comportamentos e/ou fenômenos.\n",
        "\n",
        "Business Inteligence: "
      ]
    }
  ]
}