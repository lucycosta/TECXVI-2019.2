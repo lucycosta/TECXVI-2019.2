{
  "nbformat": 4,
  "nbformat_minor": 0,
  "metadata": {
    "colab": {
      "name": "Lista1.ipynb",
      "version": "0.3.2",
      "provenance": [],
      "collapsed_sections": [],
      "include_colab_link": true
    },
    "kernelspec": {
      "name": "python3",
      "display_name": "Python 3"
    }
  },
  "cells": [
    {
      "cell_type": "markdown",
      "metadata": {
        "id": "view-in-github",
        "colab_type": "text"
      },
      "source": [
        "<a href=\"https://colab.research.google.com/github/lucycosta/TECXVI-2019.2/blob/master/Lista1.ipynb\" target=\"_parent\"><img src=\"https://colab.research.google.com/assets/colab-badge.svg\" alt=\"Open In Colab\"/></a>"
      ]
    },
    {
      "cell_type": "markdown",
      "metadata": {
        "id": "t8rEEjCdIJAs",
        "colab_type": "text"
      },
      "source": [
        "#Tarefa (a)"
      ]
    },
    {
      "cell_type": "markdown",
      "metadata": {
        "id": "mTR9q7bGIKgI",
        "colab_type": "text"
      },
      "source": [
        "##(1)\n",
        "\n",
        "*Big Data*: Realidade vivenciada atualmente em que há um grande volume de dados sendo gerados todo o tempo.\n",
        "\n",
        "*Data Analytics*: Tratamento de dados, com o objetivo de observar tendências e relação de uma variável com ela mesma e/ou com outras, já com um direcionamento prévio. \n",
        "\n",
        "*Data Mining*: Também é o tratamento de dados, porém, diferente do *data analytics*, este tem o objetivo de extrair a maior quantidade de informações possível, sem nenhum tipo de direcionamento inicial.\n",
        "\n",
        "*Business Inteligence*: Estratégias pra melhor exploração do mercado consumidor baseado na análise e mineração de dados descritas anteriormente.\n",
        "\n",
        "##(2)\n",
        "\n",
        "Dados estruturados contém um paradigma organizacional, sem falhas e com características bem definidas. Os não estruturados são todo o resto, isto é, dados com informações faltantes, formatos incomuns de apresentação e sem uma descrição completa (ou, sequer, existente).\n",
        "\n",
        "##(3)\n",
        "\n",
        "Representatividade é a proximidade da população que a amostra recolhida apresenta. Pois havendo uma amostra retirada sem essa preocupação (aleatorizando o máximo possível a amostra), pode gerar inferências pouco precisas.\n",
        "\n",
        "Balanceamento é a padronização dos tamanhos de amostra de cada uma das variáveis, pra não haver nenhuma tendência estabelecida antes do processamento.\n",
        "\n",
        "##(4)\n",
        "\n",
        "*Machine Learning* é um ramo da inteligência artificial, o aprendizado de máquina (algoritmos construídos para analisar e encontrar certos padrões) através do fornecimento de dados para treinamento e teste, e é daí que surge a importância da existência dos dados, sem eles não haveria informações que o programa pudesse usar para aprender. \n",
        "\n",
        "##(5)\n",
        "\n",
        "Definindo o conjunto de todos os dados como a população, amostragem vem a ser um subconjunto dessa população, dessa forma reduzindo a quantidade de dados para fazer análises de forma mais simples e tirar conclusões sobre a população."
      ]
    },
    {
      "cell_type": "markdown",
      "metadata": {
        "id": "zwTG6uB_KAjS",
        "colab_type": "text"
      },
      "source": [
        "#Tarefa (b)"
      ]
    },
    {
      "cell_type": "code",
      "metadata": {
        "id": "L3DG1ctLcE1F",
        "colab_type": "code",
        "outputId": "73bd4e71-f367-4a71-e4a1-c2c662870acf",
        "colab": {
          "base_uri": "https://localhost:8080/",
          "height": 51
        }
      },
      "source": [
        "v1 = [2, -5, -3, 1, 7, 4]\n",
        "v2 = [-9, 2, -1, 4, 3, 4]\n",
        "v3 = [0] * 6\n",
        "\n",
        "# (1)\n",
        "\n",
        "for i in range(6):\n",
        "  v3[i] = v1[i]*v2[i]\n",
        "  \n",
        "print(v3)\n",
        "\n",
        "# a função a seguir (cross_product) foi retirada do site: https://stackoverflow.com/questions/1984799/cross-product-of-two-vectors-in-python\n",
        "\n",
        "def cross_product(u,v):  \n",
        "    dim = len(u)\n",
        "    s = []\n",
        "    for i in range(dim):\n",
        "        if i == 0:\n",
        "            j,k = 1,2\n",
        "            s.append(u[j]*v[k] - u[k]*v[j])\n",
        "        elif i == 1:\n",
        "            j,k = 2,0\n",
        "            s.append(u[j]*v[k] - u[k]*v[j])\n",
        "        else:\n",
        "            j,k = 0,1\n",
        "            s.append(u[j]*v[k] - u[k]*v[j])\n",
        "    return s\n",
        "  \n",
        "v4 = cross_product(v1, v2)\n",
        "\n",
        "print(v4)"
      ],
      "execution_count": 2,
      "outputs": [
        {
          "output_type": "stream",
          "text": [
            "[-18, -10, 3, 4, 21, 16]\n",
            "[11, 29, -41, -41, -41, -41]\n"
          ],
          "name": "stdout"
        }
      ]
    },
    {
      "cell_type": "markdown",
      "metadata": {
        "id": "HtS4Yi_WyuDw",
        "colab_type": "text"
      },
      "source": [
        "#Tarefa (c)"
      ]
    },
    {
      "cell_type": "code",
      "metadata": {
        "id": "-zGPABPWy63i",
        "colab_type": "code",
        "colab": {
          "base_uri": "https://localhost:8080/",
          "height": 241
        },
        "outputId": "34f92e77-782c-4eb6-d16a-82c60a55a48c"
      },
      "source": [
        "import random\n",
        "\n",
        "x = [0]*200\n",
        "y = [0]*200\n",
        "\n",
        "for i in range(200):\n",
        "  x[i] = random.randint(0, 100)\n",
        "  y[i] = random.randint(0, 100)\n",
        "\n",
        "print(x)\n",
        "print(y)\n",
        "print(\" \")\n",
        "print(\"vamos organizar os dados em roll:\")\n",
        "print(\" \")\n",
        "\n",
        "x.sort()\n",
        "y.sort()\n",
        "\n",
        "print(x)\n",
        "print(y)\n",
        "\n",
        "mediax = 0\n",
        "mediay = 0\n",
        "\n",
        "for i in range(200):\n",
        "  mediax = mediax + x[i]\n",
        "  mediay = mediay + y[i]\n",
        "  \n",
        "mediax = mediax/200\n",
        "mediay = mediay/200\n",
        "  \n",
        "print(\" \")\n",
        "print(\"média de x é:\")\n",
        "print(mediax)\n",
        "print(\"média de y é:\")\n",
        "print(mediay)\n",
        "\n"
      ],
      "execution_count": 14,
      "outputs": [
        {
          "output_type": "stream",
          "text": [
            "[57, 52, 93, 49, 65, 23, 40, 57, 98, 82, 35, 57, 30, 48, 59, 84, 13, 11, 65, 100, 93, 36, 0, 88, 91, 78, 61, 98, 72, 15, 11, 65, 44, 57, 90, 66, 49, 82, 23, 49, 43, 0, 65, 73, 22, 71, 66, 45, 51, 21, 33, 35, 78, 86, 14, 5, 12, 28, 22, 71, 32, 27, 81, 96, 34, 91, 42, 70, 90, 87, 58, 97, 15, 19, 79, 83, 42, 8, 62, 50, 97, 22, 99, 46, 61, 88, 26, 26, 38, 72, 15, 76, 53, 72, 7, 34, 40, 30, 18, 91, 50, 95, 8, 78, 47, 29, 11, 68, 2, 96, 75, 0, 91, 99, 15, 11, 78, 85, 57, 44, 63, 53, 64, 51, 13, 23, 0, 77, 73, 12, 82, 9, 19, 29, 45, 50, 74, 44, 64, 33, 79, 62, 25, 60, 49, 56, 76, 78, 60, 71, 73, 91, 30, 55, 95, 80, 46, 98, 63, 77, 26, 98, 94, 15, 30, 57, 64, 58, 28, 80, 97, 55, 96, 72, 5, 49, 29, 1, 69, 5, 40, 63, 5, 84, 38, 6, 25, 81, 31, 53, 40, 72, 37, 31, 49, 49, 46, 2, 46, 50]\n",
            "[45, 100, 15, 7, 20, 78, 65, 24, 55, 39, 77, 83, 57, 28, 29, 12, 83, 32, 76, 96, 68, 59, 48, 86, 43, 37, 72, 20, 15, 1, 43, 40, 34, 94, 31, 41, 59, 21, 66, 30, 39, 83, 45, 42, 43, 31, 25, 89, 34, 42, 0, 27, 55, 23, 32, 5, 50, 40, 8, 47, 52, 81, 82, 23, 91, 59, 16, 67, 10, 75, 0, 76, 80, 12, 33, 5, 21, 65, 72, 6, 77, 17, 78, 10, 53, 52, 68, 18, 74, 5, 52, 72, 50, 15, 65, 86, 2, 92, 60, 34, 66, 96, 52, 30, 74, 24, 22, 95, 90, 76, 74, 13, 9, 81, 80, 56, 48, 31, 52, 79, 7, 81, 91, 52, 89, 54, 27, 80, 0, 13, 100, 36, 56, 58, 1, 67, 16, 38, 69, 88, 8, 20, 5, 58, 23, 79, 17, 85, 28, 98, 52, 90, 32, 78, 43, 5, 81, 63, 90, 57, 77, 44, 97, 88, 42, 49, 80, 50, 54, 28, 14, 25, 54, 7, 27, 40, 23, 32, 31, 71, 91, 50, 22, 84, 17, 29, 78, 73, 100, 70, 98, 85, 72, 95, 73, 79, 26, 69, 87, 80]\n",
            " \n",
            "vamos organizar os dados em roll:\n",
            " \n",
            "[0, 0, 0, 0, 1, 2, 2, 5, 5, 5, 5, 6, 7, 8, 8, 9, 11, 11, 11, 11, 12, 12, 13, 13, 14, 15, 15, 15, 15, 15, 18, 19, 19, 21, 22, 22, 22, 23, 23, 23, 25, 25, 26, 26, 26, 27, 28, 28, 29, 29, 29, 30, 30, 30, 30, 31, 31, 32, 33, 33, 34, 34, 35, 35, 36, 37, 38, 38, 40, 40, 40, 40, 42, 42, 43, 44, 44, 44, 45, 45, 46, 46, 46, 46, 47, 48, 49, 49, 49, 49, 49, 49, 49, 50, 50, 50, 50, 51, 51, 52, 53, 53, 53, 55, 55, 56, 57, 57, 57, 57, 57, 57, 58, 58, 59, 60, 60, 61, 61, 62, 62, 63, 63, 63, 64, 64, 64, 65, 65, 65, 65, 66, 66, 68, 69, 70, 71, 71, 71, 72, 72, 72, 72, 72, 73, 73, 73, 74, 75, 76, 76, 77, 77, 78, 78, 78, 78, 78, 79, 79, 80, 80, 81, 81, 82, 82, 82, 83, 84, 84, 85, 86, 87, 88, 88, 90, 90, 91, 91, 91, 91, 91, 93, 93, 94, 95, 95, 96, 96, 96, 97, 97, 97, 98, 98, 98, 98, 99, 99, 100]\n",
            "[0, 0, 0, 1, 1, 2, 5, 5, 5, 5, 5, 6, 7, 7, 7, 8, 8, 9, 10, 10, 12, 12, 13, 13, 14, 15, 15, 15, 16, 16, 17, 17, 17, 18, 20, 20, 20, 21, 21, 22, 22, 23, 23, 23, 23, 24, 24, 25, 25, 26, 27, 27, 27, 28, 28, 28, 29, 29, 30, 30, 31, 31, 31, 31, 32, 32, 32, 32, 33, 34, 34, 34, 36, 37, 38, 39, 39, 40, 40, 40, 41, 42, 42, 42, 43, 43, 43, 43, 44, 45, 45, 47, 48, 48, 49, 50, 50, 50, 50, 52, 52, 52, 52, 52, 52, 52, 53, 54, 54, 54, 55, 55, 56, 56, 57, 57, 58, 58, 59, 59, 59, 60, 63, 65, 65, 65, 66, 66, 67, 67, 68, 68, 69, 69, 70, 71, 72, 72, 72, 72, 73, 73, 74, 74, 74, 75, 76, 76, 76, 77, 77, 77, 78, 78, 78, 78, 79, 79, 79, 80, 80, 80, 80, 80, 81, 81, 81, 81, 82, 83, 83, 83, 84, 85, 85, 86, 86, 87, 88, 88, 89, 89, 90, 90, 90, 91, 91, 91, 92, 94, 95, 95, 96, 96, 97, 98, 98, 100, 100, 100]\n",
            " \n",
            "média de x é:\n",
            "52.09\n",
            "média de y é:\n",
            "50.445\n"
          ],
          "name": "stdout"
        }
      ]
    }
  ]
}